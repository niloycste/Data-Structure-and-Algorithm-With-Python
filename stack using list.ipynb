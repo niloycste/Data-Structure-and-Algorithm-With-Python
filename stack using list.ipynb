{
 "cells": [
  {
   "cell_type": "code",
   "execution_count": 6,
   "metadata": {},
   "outputs": [
    {
     "name": "stdout",
     "output_type": "stream",
     "text": [
      "limit of stack2\n",
      "select the operation 1.push 2.pop 3.quit\n",
      "1\n",
      "enter the element10\n",
      "['10']\n",
      "select the operation 1.push 2.pop 3.quit\n",
      "20\n",
      "put the correct operation\n",
      "select the operation 1.push 2.pop 3.quit\n",
      "1\n",
      "enter the element30\n",
      "['10', '30']\n",
      "select the operation 1.push 2.pop 3.quit\n",
      "2\n",
      "remove element 30\n",
      "['10']\n",
      "select the operation 1.push 2.pop 3.quit\n",
      "2\n",
      "remove element 10\n",
      "[]\n",
      "select the operation 1.push 2.pop 3.quit\n",
      "2\n",
      "stack is empty\n",
      "select the operation 1.push 2.pop 3.quit\n",
      "3\n"
     ]
    }
   ],
   "source": [
    "stack=[]\n",
    "def push():\n",
    "    if len(stack)==n:\n",
    "        print(\"stack is full\")\n",
    "    else:\n",
    "        element=input(\"enter the element\")\n",
    "        stack.append(element)\n",
    "        print(stack)\n",
    "    \n",
    "              \n",
    "def pop_element():\n",
    "    if not stack:\n",
    "        print(\"stack is empty\")\n",
    "    else:\n",
    "        e=stack.pop()\n",
    "        print(\"remove element\",e)\n",
    "        print(stack)\n",
    "n=int(input(\"limit of stack\"))        \n",
    "while True:\n",
    "    print(\"select the operation 1.push 2.pop 3.quit\")\n",
    "    choice=int(input())\n",
    "    if choice==1:\n",
    "        push()\n",
    "    elif choice==2:\n",
    "        pop_element()\n",
    "    elif choice==3:\n",
    "        break\n",
    "    else:\n",
    "        print(\"put the correct operation\")"
   ]
  },
  {
   "cell_type": "code",
   "execution_count": null,
   "metadata": {},
   "outputs": [],
   "source": []
  }
 ],
 "metadata": {
  "kernelspec": {
   "display_name": "Python 3",
   "language": "python",
   "name": "python3"
  },
  "language_info": {
   "codemirror_mode": {
    "name": "ipython",
    "version": 3
   },
   "file_extension": ".py",
   "mimetype": "text/x-python",
   "name": "python",
   "nbconvert_exporter": "python",
   "pygments_lexer": "ipython3",
   "version": "3.7.4"
  }
 },
 "nbformat": 4,
 "nbformat_minor": 2
}
