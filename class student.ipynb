{
 "cells": [
  {
   "cell_type": "code",
   "execution_count": 34,
   "metadata": {},
   "outputs": [
    {
     "name": "stdout",
     "output_type": "stream",
     "text": [
      "the student name is: niloy\n",
      "the student class is: 31\n",
      "the student roll is 5\n",
      "5\n",
      "<__main__.student object at 0x00000194B8A18288>\n"
     ]
    }
   ],
   "source": [
    "class student:\n",
    "    def __init__(self,name,roll,clas):\n",
    "        self.name=name\n",
    "        self.clas=clas\n",
    "        self.roll=roll\n",
    "    def studentinfo(self):\n",
    "        print(\"the student name is:\",self.name)\n",
    "        print(\"the student class is:\",str(self.clas))\n",
    "        print(\"the student roll is\",str(self.roll))\n",
    "    def promote(self):\n",
    "        self.clas+=1\n",
    "    def changeRoll(self,roll):\n",
    "        self.roll=roll\n",
    "    def getRoll(self):\n",
    "        return self.roll\n",
    "              \n",
    "a=student('niloy',3,30)\n",
    "a.promote()\n",
    "a.changeRoll(5)\n",
    "a.studentinfo()\n",
    "print(a.getRoll())\n",
    "print(a)\n",
    "              \n",
    "              \n",
    "    "
   ]
  },
  {
   "cell_type": "code",
   "execution_count": null,
   "metadata": {},
   "outputs": [],
   "source": []
  }
 ],
 "metadata": {
  "kernelspec": {
   "display_name": "Python 3",
   "language": "python",
   "name": "python3"
  },
  "language_info": {
   "codemirror_mode": {
    "name": "ipython",
    "version": 3
   },
   "file_extension": ".py",
   "mimetype": "text/x-python",
   "name": "python",
   "nbconvert_exporter": "python",
   "pygments_lexer": "ipython3",
   "version": "3.7.4"
  }
 },
 "nbformat": 4,
 "nbformat_minor": 2
}
