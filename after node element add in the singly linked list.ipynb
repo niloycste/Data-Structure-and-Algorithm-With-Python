{
 "cells": [
  {
   "cell_type": "code",
   "execution_count": 2,
   "metadata": {},
   "outputs": [
    {
     "name": "stdout",
     "output_type": "stream",
     "text": [
      "10.5 ---> 60 ---> 40 ---> 400 ---> 20 ---> 10 ---> 200 ---> 500 ---> "
     ]
    }
   ],
   "source": [
    "class node:\n",
    "    def __init__(self,data):\n",
    "        self.data=data\n",
    "        self.ref=None\n",
    "class linkedlist:\n",
    "    def __init__(self):\n",
    "        self.head=None\n",
    "    def print_LL(self):\n",
    "        if self.head is None:\n",
    "            print(\"linked list is empty\")\n",
    "        else:\n",
    "            n=self.head\n",
    "            while n is not None:\n",
    "                print(n.data,\"--->\",end= \" \")\n",
    "                n=n.ref\n",
    "            \n",
    "    def add_begin(self,data):\n",
    "        new_node=node(data)\n",
    "        new_node.ref=self.head\n",
    "        self.head=new_node\n",
    "        \n",
    "    def add_end(self,data):\n",
    "        new_node=node(data)\n",
    "        if self.head is None:\n",
    "            self.head=new_node\n",
    "        else:\n",
    "            n=self.head\n",
    "            while n.ref is not None:\n",
    "                n=n.ref\n",
    "            n.ref=new_node  \n",
    "    def add_after(self,data,x):\n",
    "        n=self.head \n",
    "        while n is not None:\n",
    "            if x==n.data:\n",
    "                break\n",
    "            else:\n",
    "                n=n.ref\n",
    "        if n is None:\n",
    "            print(\"node is not present in LL\")\n",
    "        else:\n",
    "            new_node=node(data)\n",
    "            new_node.ref=n.ref\n",
    "            n.ref=new_node\n",
    "            \n",
    "LL1=linkedlist()\n",
    "LL1.add_begin(10)\n",
    "LL1.add_begin(20)\n",
    "LL1.add_end(200)\n",
    "LL1.add_begin(40)\n",
    "LL1.add_after(400,40)\n",
    "LL1.add_begin(60)\n",
    "LL1.add_end(500)\n",
    "LL1.add_begin(10.5)\n",
    "LL1.print_LL()\n",
    "        "
   ]
  },
  {
   "cell_type": "code",
   "execution_count": null,
   "metadata": {},
   "outputs": [],
   "source": []
  }
 ],
 "metadata": {
  "kernelspec": {
   "display_name": "Python 3",
   "language": "python",
   "name": "python3"
  },
  "language_info": {
   "codemirror_mode": {
    "name": "ipython",
    "version": 3
   },
   "file_extension": ".py",
   "mimetype": "text/x-python",
   "name": "python",
   "nbconvert_exporter": "python",
   "pygments_lexer": "ipython3",
   "version": "3.7.4"
  }
 },
 "nbformat": 4,
 "nbformat_minor": 2
}
