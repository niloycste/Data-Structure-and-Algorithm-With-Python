{
 "cells": [
  {
   "cell_type": "code",
   "execution_count": null,
   "metadata": {},
   "outputs": [
    {
     "name": "stdout",
     "output_type": "stream",
     "text": [
      "limit of queue3\n",
      "select the operation 1.enqueue 2.dequeue 3.display 4.quit\n",
      "1\n",
      "enter the element10\n",
      "10 is added in the queue\n",
      "select the operation 1.enqueue 2.dequeue 3.display 4.quit\n",
      "1\n",
      "enter the element20\n",
      "20 is added in the queue\n",
      "select the operation 1.enqueue 2.dequeue 3.display 4.quit\n",
      "1\n",
      "enter the element30\n",
      "30 is added in the queue\n",
      "select the operation 1.enqueue 2.dequeue 3.display 4.quit\n",
      "2\n",
      "remove element 10\n",
      "select the operation 1.enqueue 2.dequeue 3.display 4.quit\n",
      "3\n",
      "['20', '30']\n",
      "select the operation 1.enqueue 2.dequeue 3.display 4.quit\n",
      "2\n",
      "remove element 20\n",
      "select the operation 1.enqueue 2.dequeue 3.display 4.quit\n",
      "3\n",
      "['30']\n",
      "select the operation 1.enqueue 2.dequeue 3.display 4.quit\n"
     ]
    }
   ],
   "source": [
    "queue=[]\n",
    "def enqueue():\n",
    "    if len(queue)==n:\n",
    "        print(\"queue is full\")\n",
    "    else:\n",
    "        element=input(\"enter the element\")\n",
    "        queue.append(element)\n",
    "        print(element,\"is added in the queue\")\n",
    "    \n",
    "              \n",
    "def dequeue():\n",
    "    if not queue:\n",
    "        print(\"queue is empty\")\n",
    "    else:\n",
    "        e=queue.pop(0)\n",
    "        print(\"remove element\",e)\n",
    "        \n",
    "def display():\n",
    "    print(queue)\n",
    "        \n",
    "\n",
    "        \n",
    "n=int(input(\"limit of queue\"))\n",
    "\n",
    "while True:\n",
    "    print(\"select the operation 1.enqueue 2.dequeue 3.display 4.quit\")\n",
    "    choice=int(input())\n",
    "    if choice==1:\n",
    "        enqueue()\n",
    "    elif choice==2:\n",
    "        dequeue()\n",
    "    elif choice==3:\n",
    "        display()\n",
    "    elif choice==4:\n",
    "        break\n",
    "    \n",
    "    else:\n",
    "        print(\"put the correct operation\")"
   ]
  },
  {
   "cell_type": "code",
   "execution_count": null,
   "metadata": {},
   "outputs": [],
   "source": []
  }
 ],
 "metadata": {
  "kernelspec": {
   "display_name": "Python 3",
   "language": "python",
   "name": "python3"
  },
  "language_info": {
   "codemirror_mode": {
    "name": "ipython",
    "version": 3
   },
   "file_extension": ".py",
   "mimetype": "text/x-python",
   "name": "python",
   "nbconvert_exporter": "python",
   "pygments_lexer": "ipython3",
   "version": "3.7.4"
  }
 },
 "nbformat": 4,
 "nbformat_minor": 2
}
